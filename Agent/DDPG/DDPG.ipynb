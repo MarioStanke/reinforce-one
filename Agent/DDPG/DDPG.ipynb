{
 "cells": [
  {
   "cell_type": "markdown",
   "metadata": {},
   "source": [
    "## Test the environment `HerdEnv` of `herd_env.py`"
   ]
  },
  {
   "cell_type": "code",
   "execution_count": 1,
   "metadata": {
    "tags": []
   },
   "outputs": [],
   "source": [
    "import os\n",
    "import numpy as np\n",
    "import tensorflow as tf\n",
    "from tf_agents.environments import utils\n",
    "from tf_agents.trajectories.time_step import StepType\n",
    "from tf_agents.trajectories import TimeStep\n",
    "from tf_agents.policies import scripted_py_policy\n",
    "from tf_agents.policies import random_py_policy\n",
    "from tf_agents.policies import random_tf_policy\n",
    "from tf_agents.policies import policy_saver\n",
    "from tf_agents.metrics import py_metrics\n",
    "from tf_agents.drivers import py_driver\n",
    "from tf_agents.utils import common\n",
    "from tf_agents.specs import tensor_spec\n",
    "\n",
    "from tf_agents.networks import sequential\n",
    "\n",
    "import sys\n",
    "sys.path.insert(1, '/home/jovyan/Masterarbeit/reinforce-one/Environment')"
   ]
  },
  {
   "cell_type": "code",
   "execution_count": 2,
   "metadata": {},
   "outputs": [],
   "source": [
    "from Env import Env\n",
    "root_dir = '~/Masterarbeit/DDPG'\n",
    "num_herds=2\n",
    "total_population=300"
   ]
  },
  {
   "cell_type": "markdown",
   "metadata": {},
   "source": [
    "### Train a DDPG Agent"
   ]
  },
  {
   "cell_type": "code",
   "execution_count": 3,
   "metadata": {},
   "outputs": [],
   "source": [
    "def compute_avg_return(environment, policy, num_episodes=50, verbose=False):\n",
    "  total_return = 0.0\n",
    "  cullsteps = 0 \n",
    "  for e in range(num_episodes):\n",
    "\n",
    "    time_step = environment.reset()\n",
    "    if isinstance(policy, scripted_py_policy.ScriptedPyPolicy):\n",
    "        policy_state = policy.get_initial_state() # remember where in the script we were\n",
    "    else:\n",
    "        #print(policy.get_initial_state(batch_size=train_env.batch_size()))\n",
    "        policy_state = policy.get_initial_state(batch_size=1) # other policies without memory\n",
    "    episode_return = 0.0\n",
    "    i=0\n",
    "    while not time_step.is_last():\n",
    "        i+=1\n",
    "        action_step = policy.action(time_step, policy_state)\n",
    "        for i in range (num_herds, num_herds*2):\n",
    "            if action_step.action[0][i] > 0.1:\n",
    "                cullsteps += 1\n",
    "                break\n",
    "        policy_state = action_step.state\n",
    "        time_step = environment.step(action_step.action)\n",
    "\n",
    "        state = None # TF environment from wrapper does not have get_state()\n",
    "        episode_return += time_step.reward\n",
    "        if verbose:\n",
    "            print (f\"episode {e:>2} step{i:>4} action: \", action_step.action, \n",
    "                   \"state=\", state, \"obs=\", time_step.observation, \"reward=\", time_step.reward)\n",
    "    total_return += episode_return\n",
    "\n",
    "  avg_return = total_return / num_episodes\n",
    "  cullsteps /= num_episodes\n",
    "  return avg_return, cullsteps"
   ]
  },
  {
   "cell_type": "code",
   "execution_count": 4,
   "metadata": {},
   "outputs": [],
   "source": [
    "\n",
    "import functools\n",
    "from tf_agents.networks import nest_map\n",
    "from tf_agents.networks import sequential\n",
    "from tf_agents.keras_layers import inner_reshape\n",
    "from tf_agents.networks.sequential import Sequential\n",
    "from tensorflow.keras.layers import Dense\n",
    "from tf_agents.agents.ddpg import ddpg_agent\n",
    "from tf_agents.environments import tf_py_environment\n",
    "from tf_agents.replay_buffers import tf_uniform_replay_buffer\n",
    "from tf_agents.trajectories import trajectory"
   ]
  },
  {
   "cell_type": "code",
   "execution_count": 5,
   "metadata": {},
   "outputs": [],
   "source": [
    "num_iterations = 500000\n",
    "replay_buffer_max_length = 100000\n",
    "batch_size = 256\n",
    "num_eval_episodes = 200\n",
    "initial_collect_steps = 5000\n",
    "collect_steps_per_iteration = 200\n",
    "log_interval = 500\n",
    "eval_interval = 500\n",
    "threshhold_reset_interval = 50000\n",
    "target_update_period = 5"
   ]
  },
  {
   "cell_type": "code",
   "execution_count": 6,
   "metadata": {},
   "outputs": [],
   "source": [
    "train_env = tf_py_environment.TFPyEnvironment(Env(num_herds = num_herds, total_population = total_population, \n",
    "                                                  fix_episode_length = True, average_episode_length = 200))\n",
    "eval_env = tf_py_environment.TFPyEnvironment(Env(num_herds = num_herds, total_population = total_population, \n",
    "                                                 fix_episode_length = True, average_episode_length = 200))"
   ]
  },
  {
   "cell_type": "code",
   "execution_count": 7,
   "metadata": {},
   "outputs": [],
   "source": [
    "#kernel_initializer=tf.keras.initializers.RandomUniform(minval=-0.03, maxval=0.03)\n",
    "\n",
    "#Make critic and actor net for ddpg\n",
    "\n",
    "dense = functools.partial(\n",
    "    tf.keras.layers.Dense,\n",
    "    activation=tf.keras.activations.relu,\n",
    "    kernel_initializer=tf.compat.v1.variance_scaling_initializer(\n",
    "        scale=1./ 3.0, mode='fan_in', distribution='uniform'))\n",
    "\n",
    "\n",
    "def create_identity_layer():\n",
    "    return tf.keras.layers.Lambda(lambda x: x)\n",
    "\n",
    "\n",
    "def create_fc_network(layer_units):\n",
    "    return sequential.Sequential([dense(num_units) for num_units in layer_units])\n",
    "\n",
    "\n",
    "def create_actor_network(fc_layer_units, action_spec):\n",
    "    \"\"\"Create an actor network for DDPG.\"\"\"\n",
    "    flat_action_spec = tf.nest.flatten(action_spec)\n",
    "    if len(flat_action_spec) > 1:\n",
    "        raise ValueError('Only a single action tensor is supported by this network')\n",
    "    flat_action_spec = flat_action_spec[0]\n",
    "\n",
    "    fc_layers = [dense(num_units) for num_units in fc_layer_units]\n",
    "\n",
    "    num_actions = flat_action_spec.shape.num_elements()\n",
    "    action_fc_layer = tf.keras.layers.Dense(\n",
    "        num_actions,\n",
    "        activation=tf.keras.activations.tanh,\n",
    "        kernel_initializer=tf.keras.initializers.RandomUniform(\n",
    "            minval=-0.003, maxval=0.003))\n",
    "\n",
    "    scaling_layer = tf.keras.layers.Lambda(\n",
    "        lambda x: common.scale_to_spec(x, flat_action_spec))\n",
    "    return sequential.Sequential(fc_layers + [action_fc_layer, scaling_layer])\n",
    "\n",
    "\n",
    "def create_critic_network(obs_fc_layer_units,\n",
    "                          action_fc_layer_units,\n",
    "                          joint_fc_layer_units):\n",
    "    \"\"\"Create a critic network for DDPG.\"\"\"\n",
    "\n",
    "    def split_inputs(inputs):\n",
    "        return {'observation': inputs[0], 'action': inputs[1]}\n",
    "\n",
    "    obs_network = create_fc_network(\n",
    "        obs_fc_layer_units) if obs_fc_layer_units else create_identity_layer()\n",
    "    action_network = create_fc_network(\n",
    "        action_fc_layer_units\n",
    "        ) if action_fc_layer_units else create_identity_layer()\n",
    "    joint_network = create_fc_network(\n",
    "        joint_fc_layer_units) if joint_fc_layer_units else create_identity_layer()\n",
    "    \n",
    "    value_fc_layer = tf.keras.layers.Dense(\n",
    "        1,\n",
    "        activation=None,\n",
    "        kernel_initializer=tf.keras.initializers.RandomUniform(\n",
    "            minval=-0.003, maxval=0.003))\n",
    "\n",
    "    return sequential.Sequential([\n",
    "        tf.keras.layers.Lambda(split_inputs),\n",
    "        nest_map.NestMap({\n",
    "            'observation': obs_network,\n",
    "            'action': action_network\n",
    "        }),\n",
    "        nest_map.NestFlatten(),\n",
    "        tf.keras.layers.Concatenate(),\n",
    "        joint_network,\n",
    "        value_fc_layer,\n",
    "        inner_reshape.InnerReshape([1], [])\n",
    "    ])\n",
    "\n",
    "actor_fc_layers=(200, 150)\n",
    "critic_obs_fc_layers=(200,)\n",
    "critic_action_fc_layers=None\n",
    "critic_joint_fc_layers=(150,)\n",
    "\n",
    "actor_net = create_actor_network(actor_fc_layers, train_env.action_spec())\n",
    "critic_net = create_critic_network(critic_obs_fc_layers,\n",
    "                                       critic_action_fc_layers,\n",
    "                                       critic_joint_fc_layers)"
   ]
  },
  {
   "cell_type": "code",
   "execution_count": 8,
   "metadata": {},
   "outputs": [],
   "source": [
    "train_step_counter = tf.Variable(0)\n",
    "global_step = tf.compat.v1.train.get_or_create_global_step()\n",
    "\n",
    "agent = ddpg_agent.DdpgAgent(\n",
    "        train_env.time_step_spec(),\n",
    "        train_env.action_spec(),\n",
    "        actor_network=actor_net,\n",
    "        critic_network=critic_net,\n",
    "        actor_optimizer=tf.compat.v1.train.AdamOptimizer(\n",
    "            learning_rate=5e-5),    #1e-4\n",
    "        critic_optimizer=tf.compat.v1.train.AdamOptimizer(\n",
    "            learning_rate=5e-4),    #1e-3\n",
    "        ou_stddev=0.2,\n",
    "        ou_damping=0.15,\n",
    "        target_update_tau=0.05,\n",
    "        target_update_period=5,\n",
    "        #dqda_clipping=dqda_clipping,\n",
    "        td_errors_loss_fn=tf.compat.v1.losses.huber_loss,\n",
    "        gamma=0.99,\n",
    "        #reward_scale_factor=reward_scale_factor,\n",
    "        #gradient_clipping=gradient_clipping,\n",
    "        #debug_summaries=debug_summaries,\n",
    "        #summarize_grads_and_vars=summarize_grads_and_vars,\n",
    "        train_step_counter=global_step)\n",
    "\n",
    "agent.initialize()"
   ]
  },
  {
   "cell_type": "code",
   "execution_count": 9,
   "metadata": {},
   "outputs": [],
   "source": [
    "# agent.policy.trainable_variables"
   ]
  },
  {
   "cell_type": "code",
   "execution_count": 10,
   "metadata": {},
   "outputs": [],
   "source": [
    "# manually initialize a reasonably good policy: kill both herds if the sum of observations is large\n",
    "#W = np.array([[0, 3 ,0, 2],[0, 0, 3, 2,]])\n",
    "#b = np.array([1, 0, 0, 0])\n",
    "#q_net.layers[0].set_weights([W,b])\n",
    "#agent.policy.trainable_variables"
   ]
  },
  {
   "cell_type": "code",
   "execution_count": 11,
   "metadata": {},
   "outputs": [],
   "source": [
    "replay_buffer = tf_uniform_replay_buffer.TFUniformReplayBuffer(\n",
    "    data_spec=agent.collect_data_spec,\n",
    "    batch_size=train_env.batch_size,\n",
    "    max_length=replay_buffer_max_length)"
   ]
  },
  {
   "cell_type": "code",
   "execution_count": 12,
   "metadata": {},
   "outputs": [
    {
     "data": {
      "text/plain": [
       "('step_type',\n",
       " 'observation',\n",
       " 'action',\n",
       " 'policy_info',\n",
       " 'next_step_type',\n",
       " 'reward',\n",
       " 'discount')"
      ]
     },
     "execution_count": 12,
     "metadata": {},
     "output_type": "execute_result"
    }
   ],
   "source": [
    "agent.collect_data_spec._fields"
   ]
  },
  {
   "cell_type": "code",
   "execution_count": 13,
   "metadata": {},
   "outputs": [],
   "source": [
    "def collect_step(environment, policy, buffer):\n",
    "    time_step = environment.current_time_step()\n",
    "    action_step = policy.action(time_step)\n",
    "    next_time_step = environment.step(action_step.action)\n",
    "    traj = trajectory.from_transition(time_step, action_step, next_time_step)\n",
    "\n",
    "    # Add trajectory to the replay buffer\n",
    "    buffer.add_batch(traj)\n",
    "\n",
    "def collect_data(env, policy, buffer, steps):\n",
    "    for _ in range(steps):\n",
    "        collect_step(env, policy, buffer)\n",
    "\n",
    "random_policy = random_tf_policy.RandomTFPolicy(\n",
    "    action_spec=train_env.action_spec(), time_step_spec=train_env.time_step_spec())\n",
    "collect_data(train_env, random_policy, replay_buffer, initial_collect_steps)"
   ]
  },
  {
   "cell_type": "code",
   "execution_count": 14,
   "metadata": {},
   "outputs": [
    {
     "name": "stdout",
     "output_type": "stream",
     "text": [
      "WARNING:tensorflow:From /opt/conda/lib/python3.9/site-packages/tensorflow/python/data/experimental/ops/counter.py:66: scan (from tensorflow.python.data.experimental.ops.scan_ops) is deprecated and will be removed in a future version.\n",
      "Instructions for updating:\n",
      "Use `tf.data.Dataset.scan(...) instead\n",
      "WARNING:tensorflow:From /opt/conda/lib/python3.9/site-packages/tensorflow/python/autograph/impl/api.py:382: ReplayBuffer.get_next (from tf_agents.replay_buffers.replay_buffer) is deprecated and will be removed in a future version.\n",
      "Instructions for updating:\n",
      "Use `as_dataset(..., single_deterministic_pass=False) instead.\n"
     ]
    },
    {
     "data": {
      "text/plain": [
       "<PrefetchDataset shapes: (Trajectory(\n",
       "{action: (64, 2, 4),\n",
       " discount: (64, 2),\n",
       " next_step_type: (64, 2),\n",
       " observation: (64, 2, 7),\n",
       " policy_info: (),\n",
       " reward: (64, 2),\n",
       " step_type: (64, 2)}), BufferInfo(ids=(64, 2), probabilities=(64,))), types: (Trajectory(\n",
       "{action: tf.float32,\n",
       " discount: tf.float32,\n",
       " next_step_type: tf.int32,\n",
       " observation: tf.float32,\n",
       " policy_info: (),\n",
       " reward: tf.float32,\n",
       " step_type: tf.int32}), BufferInfo(ids=tf.int64, probabilities=tf.float32))>"
      ]
     },
     "execution_count": 14,
     "metadata": {},
     "output_type": "execute_result"
    }
   ],
   "source": [
    "# Dataset generates trajectories with shape [Bx2x...]\n",
    "dataset = replay_buffer.as_dataset(\n",
    "    num_parallel_calls=3, \n",
    "    sample_batch_size=batch_size, \n",
    "    num_steps=2).prefetch(3)\n",
    "\n",
    "iterator = iter(dataset)\n",
    "dataset"
   ]
  },
  {
   "cell_type": "code",
   "execution_count": null,
   "metadata": {},
   "outputs": [
    {
     "name": "stdout",
     "output_type": "stream",
     "text": [
      "step = 1: loss = 0.6136\t"
     ]
    },
    {
     "name": "stderr",
     "output_type": "stream",
     "text": [
      "WARNING:absl:Function `function_with_signature` contains input name(s) 0/step_type, 0/reward, 0/discount, 0/observation with unsupported characters which will be renamed to step_type, reward, discount, observation in the SavedModel.\n"
     ]
    },
    {
     "name": "stdout",
     "output_type": "stream",
     "text": [
      "step 1: average return = -160.5 cullsteps = 200.0\n",
      "New best return:  tf.Tensor([-160.47134], shape=(1,), dtype=float32)\n"
     ]
    },
    {
     "name": "stderr",
     "output_type": "stream",
     "text": [
      "WARNING:absl:Found untraced functions such as sequential_layer_call_fn, sequential_layer_call_and_return_conditional_losses, sequential_layer_call_fn, sequential_layer_call_and_return_conditional_losses, sequential_layer_call_and_return_conditional_losses while saving (showing 5 of 25). These functions will not be directly callable after loading.\n",
      "/opt/conda/lib/python3.9/site-packages/tensorflow/python/saved_model/nested_structure_coder.py:558: UserWarning: Encoding a StructuredValue with type tfp.distributions.Deterministic_ACTTypeSpec; loading this StructuredValue will require that this type be imported and registered.\n",
      "  warnings.warn(\"Encoding a StructuredValue with type %s; loading this \"\n"
     ]
    },
    {
     "name": "stdout",
     "output_type": "stream",
     "text": [
      "INFO:tensorflow:Assets written to: /home/jovyan/Masterarbeit/DDPG/policy/1/assets\n"
     ]
    },
    {
     "name": "stderr",
     "output_type": "stream",
     "text": [
      "INFO:tensorflow:Assets written to: /home/jovyan/Masterarbeit/DDPG/policy/1/assets\n"
     ]
    },
    {
     "name": "stdout",
     "output_type": "stream",
     "text": [
      "step 50: average return = -584.2 cullsteps = 200.0\n",
      "step 100: average return = -584.9 cullsteps = 200.0\n",
      "step = 500: loss = 0.3543\tstep = 1000: loss = 0.5120\tstep 1000: average return = -586.1 cullsteps = 0.0\n",
      "step = 1500: loss = 1.3690\tstep = 2000: loss = 0.4447\tstep 2000: average return = -212.1 cullsteps = 200.0\n",
      "step = 2500: loss = 0.1439\tstep = 3000: loss = 0.1844\t"
     ]
    },
    {
     "name": "stderr",
     "output_type": "stream",
     "text": [
      "WARNING:absl:Function `function_with_signature` contains input name(s) 0/step_type, 0/reward, 0/discount, 0/observation with unsupported characters which will be renamed to step_type, reward, discount, observation in the SavedModel.\n",
      "WARNING:absl:Found untraced functions such as sequential_layer_call_fn, sequential_layer_call_and_return_conditional_losses, sequential_layer_call_fn, sequential_layer_call_and_return_conditional_losses, sequential_layer_call_and_return_conditional_losses while saving (showing 5 of 25). These functions will not be directly callable after loading.\n"
     ]
    },
    {
     "name": "stdout",
     "output_type": "stream",
     "text": [
      "step 3000: average return = -31.3 cullsteps = 200.0\n",
      "New best return:  tf.Tensor([-31.25108], shape=(1,), dtype=float32)\n",
      "INFO:tensorflow:Assets written to: /home/jovyan/Masterarbeit/DDPG/policy/3000/assets\n"
     ]
    },
    {
     "name": "stderr",
     "output_type": "stream",
     "text": [
      "/opt/conda/lib/python3.9/site-packages/tensorflow/python/saved_model/nested_structure_coder.py:558: UserWarning: Encoding a StructuredValue with type tfp.distributions.Deterministic_ACTTypeSpec; loading this StructuredValue will require that this type be imported and registered.\n",
      "  warnings.warn(\"Encoding a StructuredValue with type %s; loading this \"\n",
      "INFO:tensorflow:Assets written to: /home/jovyan/Masterarbeit/DDPG/policy/3000/assets\n"
     ]
    },
    {
     "name": "stdout",
     "output_type": "stream",
     "text": [
      "step = 3500: loss = 0.1811\tstep = 4000: loss = 0.2878\tstep 4000: average return = -40.0 cullsteps = 200.0\n",
      "step = 4500: loss = 0.3687\tstep = 5000: loss = 0.1343\tstep 5000: average return = -49.6 cullsteps = 200.0\n",
      "step = 5500: loss = 0.2839\tstep = 6000: loss = 0.3816\tstep 6000: average return = -49.5 cullsteps = 200.0\n",
      "step = 6500: loss = 0.1196\tstep = 7000: loss = 0.3128\tstep 7000: average return = -41.5 cullsteps = 200.0\n",
      "step = 7500: loss = 0.1922\tstep = 8000: loss = 0.2182\tstep 8000: average return = -70.6 cullsteps = 200.0\n",
      "step = 8500: loss = 0.1754\tstep = 9000: loss = 0.1272\tstep 9000: average return = -70.3 cullsteps = 200.0\n",
      "step = 9500: loss = 0.1922\tstep = 10000: loss = 0.1465\tstep 10000: average return = -81.0 cullsteps = 200.0\n",
      "step = 10500: loss = 0.0917\tstep = 11000: loss = 0.1166\tstep 11000: average return = -114.8 cullsteps = 200.0\n",
      "step = 11500: loss = 0.0868\tstep = 12000: loss = 0.1320\tstep 12000: average return = -89.6 cullsteps = 200.0\n",
      "step = 12500: loss = 0.1295\tstep = 13000: loss = 0.1288\tstep 13000: average return = -97.7 cullsteps = 200.0\n",
      "step = 13500: loss = 0.0927\tstep = 14000: loss = 0.0986\tstep 14000: average return = -76.7 cullsteps = 200.0\n",
      "step = 14500: loss = 0.1007\tstep = 15000: loss = 0.0857\tstep 15000: average return = -65.2 cullsteps = 200.0\n",
      "step = 15500: loss = 0.1426\tstep = 16000: loss = 0.1321\tstep 16000: average return = -106.5 cullsteps = 200.0\n",
      "step = 16500: loss = 0.0804\tstep = 17000: loss = 0.1053\tstep 17000: average return = -79.5 cullsteps = 199.0\n",
      "step = 17500: loss = 0.1357\tstep = 18000: loss = 0.1579\tstep 18000: average return = -72.7 cullsteps = 199.0\n",
      "step = 18500: loss = 0.1417\tstep = 19000: loss = 0.1365\tstep 19000: average return = -78.0 cullsteps = 200.0\n",
      "step = 19500: loss = 0.2094\tstep = 20000: loss = 0.1041\tstep 20000: average return = -82.1 cullsteps = 200.0\n",
      "step = 20500: loss = 0.1641\tstep = 21000: loss = 0.1008\tstep 21000: average return = -95.7 cullsteps = 200.0\n",
      "step = 21500: loss = 0.0504\tstep = 22000: loss = 0.1369\tstep 22000: average return = -113.4 cullsteps = 200.0\n",
      "step = 22500: loss = 0.0973\tstep = 23000: loss = 0.0973\tstep 23000: average return = -66.9 cullsteps = 200.0\n",
      "step = 23500: loss = 0.1252\tstep = 24000: loss = 0.2145\tstep 24000: average return = -82.6 cullsteps = 200.0\n",
      "step = 24500: loss = 0.0553\tstep = 25000: loss = 0.0746\tstep 25000: average return = -94.7 cullsteps = 200.0\n",
      "step = 25500: loss = 0.0930\tstep = 26000: loss = 0.0534\tstep 26000: average return = -76.6 cullsteps = 200.0\n",
      "step = 26500: loss = 0.0608\tstep = 27000: loss = 0.0520\tstep 27000: average return = -64.8 cullsteps = 200.0\n",
      "step = 27500: loss = 0.0539\tstep = 28000: loss = 0.2476\tstep 28000: average return = -61.3 cullsteps = 200.0\n",
      "step = 28500: loss = 0.1083\tstep = 29000: loss = 0.0405\tstep 29000: average return = -64.2 cullsteps = 200.0\n",
      "step = 29500: loss = 0.0828\tstep = 30000: loss = 0.2487\tstep 30000: average return = -54.1 cullsteps = 200.0\n",
      "step = 30500: loss = 0.0948\tstep = 31000: loss = 0.1193\tstep 31000: average return = -62.6 cullsteps = 200.0\n",
      "step = 31500: loss = 0.0313\tstep = 32000: loss = 0.1011\tstep 32000: average return = -108.2 cullsteps = 200.0\n",
      "step = 32500: loss = 0.1537\tstep = 33000: loss = 0.1543\tstep 33000: average return = -56.6 cullsteps = 200.0\n",
      "step = 33500: loss = 0.1502\tstep = 34000: loss = 0.1488\tstep 34000: average return = -66.5 cullsteps = 200.0\n",
      "step = 34500: loss = 0.0809\tstep = 35000: loss = 0.1703\tstep 35000: average return = -63.9 cullsteps = 200.0\n",
      "step = 35500: loss = 0.0914\tstep = 36000: loss = 0.5128\tstep 36000: average return = -61.7 cullsteps = 200.0\n",
      "step = 36500: loss = 0.0867\tstep = 37000: loss = 0.1252\tstep 37000: average return = -112.6 cullsteps = 200.0\n",
      "step = 37500: loss = 0.3435\tstep = 38000: loss = 0.1746\tstep 38000: average return = -92.6 cullsteps = 200.0\n",
      "step = 38500: loss = 0.1646\tstep = 39000: loss = 0.2942\tstep 39000: average return = -77.0 cullsteps = 200.0\n",
      "step = 39500: loss = 0.0686\tstep = 40000: loss = 0.1544\tstep 40000: average return = -96.3 cullsteps = 200.0\n",
      "step = 40500: loss = 0.0444\tstep = 41000: loss = 0.0380\tstep 41000: average return = -83.3 cullsteps = 200.0\n",
      "step = 41500: loss = 0.2175\tstep = 42000: loss = 0.0629\tstep 42000: average return = -123.7 cullsteps = 200.0\n",
      "step = 42500: loss = 0.0370\tstep = 43000: loss = 0.0357\tstep 43000: average return = -84.4 cullsteps = 200.0\n",
      "step = 43500: loss = 0.1142\tstep = 44000: loss = 0.3656\tstep 44000: average return = -88.2 cullsteps = 200.0\n",
      "step = 44500: loss = 0.0425\tstep = 45000: loss = 0.0571\tstep 45000: average return = -95.0 cullsteps = 200.0\n",
      "step = 45500: loss = 0.7367\tstep = 46000: loss = 0.0804\tstep 46000: average return = -217.0 cullsteps = 200.0\n",
      "step = 46500: loss = 0.2874\tstep = 47000: loss = 0.1917\tstep 47000: average return = -108.4 cullsteps = 200.0\n",
      "step = 47500: loss = 0.0529\tstep = 48000: loss = 0.0935\tstep 48000: average return = -107.4 cullsteps = 200.0\n",
      "step = 48500: loss = 0.2398\tstep = 49000: loss = 0.1369\tstep 49000: average return = -100.1 cullsteps = 200.0\n",
      "step = 49500: loss = 0.0645\tstep = 50000: loss = 0.1293\tstep 50000: average return = -163.0 cullsteps = 200.0\n",
      "step = 50500: loss = 0.1337\tstep = 51000: loss = 0.2199\t"
     ]
    },
    {
     "name": "stderr",
     "output_type": "stream",
     "text": [
      "WARNING:absl:Function `function_with_signature` contains input name(s) 0/step_type, 0/reward, 0/discount, 0/observation with unsupported characters which will be renamed to step_type, reward, discount, observation in the SavedModel.\n",
      "WARNING:absl:Found untraced functions such as sequential_layer_call_fn, sequential_layer_call_and_return_conditional_losses, sequential_layer_call_fn, sequential_layer_call_and_return_conditional_losses, sequential_layer_call_and_return_conditional_losses while saving (showing 5 of 25). These functions will not be directly callable after loading.\n"
     ]
    },
    {
     "name": "stdout",
     "output_type": "stream",
     "text": [
      "step 51000: average return = -152.5 cullsteps = 200.0\n",
      "New best return:  tf.Tensor([-152.50243], shape=(1,), dtype=float32)\n",
      "INFO:tensorflow:Assets written to: /home/jovyan/Masterarbeit/DDPG/policy/51000/assets\n"
     ]
    },
    {
     "name": "stderr",
     "output_type": "stream",
     "text": [
      "/opt/conda/lib/python3.9/site-packages/tensorflow/python/saved_model/nested_structure_coder.py:558: UserWarning: Encoding a StructuredValue with type tfp.distributions.Deterministic_ACTTypeSpec; loading this StructuredValue will require that this type be imported and registered.\n",
      "  warnings.warn(\"Encoding a StructuredValue with type %s; loading this \"\n",
      "INFO:tensorflow:Assets written to: /home/jovyan/Masterarbeit/DDPG/policy/51000/assets\n"
     ]
    },
    {
     "name": "stdout",
     "output_type": "stream",
     "text": [
      "step = 51500: loss = 0.2036\tstep = 52000: loss = 0.1084\t"
     ]
    },
    {
     "name": "stderr",
     "output_type": "stream",
     "text": [
      "WARNING:absl:Function `function_with_signature` contains input name(s) 0/step_type, 0/reward, 0/discount, 0/observation with unsupported characters which will be renamed to step_type, reward, discount, observation in the SavedModel.\n",
      "WARNING:absl:Found untraced functions such as sequential_layer_call_fn, sequential_layer_call_and_return_conditional_losses, sequential_layer_call_fn, sequential_layer_call_and_return_conditional_losses, sequential_layer_call_and_return_conditional_losses while saving (showing 5 of 25). These functions will not be directly callable after loading.\n"
     ]
    },
    {
     "name": "stdout",
     "output_type": "stream",
     "text": [
      "step 52000: average return = -91.2 cullsteps = 200.0\n",
      "New best return:  tf.Tensor([-91.24459], shape=(1,), dtype=float32)\n",
      "INFO:tensorflow:Assets written to: /home/jovyan/Masterarbeit/DDPG/policy/52000/assets\n"
     ]
    },
    {
     "name": "stderr",
     "output_type": "stream",
     "text": [
      "/opt/conda/lib/python3.9/site-packages/tensorflow/python/saved_model/nested_structure_coder.py:558: UserWarning: Encoding a StructuredValue with type tfp.distributions.Deterministic_ACTTypeSpec; loading this StructuredValue will require that this type be imported and registered.\n",
      "  warnings.warn(\"Encoding a StructuredValue with type %s; loading this \"\n",
      "INFO:tensorflow:Assets written to: /home/jovyan/Masterarbeit/DDPG/policy/52000/assets\n"
     ]
    },
    {
     "name": "stdout",
     "output_type": "stream",
     "text": [
      "step = 52500: loss = 0.0809\tstep = 53000: loss = 0.0402\tstep 53000: average return = -244.4 cullsteps = 200.0\n",
      "step = 53500: loss = 0.1417\tstep = 54000: loss = 0.5640\tstep 54000: average return = -141.0 cullsteps = 200.0\n",
      "step = 54500: loss = 0.5872\tstep = 55000: loss = 0.1606\tstep 55000: average return = -103.8 cullsteps = 200.0\n",
      "step = 55500: loss = 0.0930\tstep = 56000: loss = 1.5282\tstep 56000: average return = -206.8 cullsteps = 200.0\n",
      "step = 56500: loss = 0.1016\tstep = 57000: loss = 0.1964\tstep 57000: average return = -209.9 cullsteps = 200.0\n",
      "step = 57500: loss = 0.3013\tstep = 58000: loss = 0.0813\tstep 58000: average return = -257.3 cullsteps = 200.0\n",
      "step = 58500: loss = 0.4742\tstep = 59000: loss = 0.0298\tstep 59000: average return = -191.6 cullsteps = 200.0\n",
      "step = 59500: loss = 0.1671\tstep = 60000: loss = 0.6056\tstep 60000: average return = -198.6 cullsteps = 200.0\n",
      "step = 60500: loss = 0.1315\tstep = 61000: loss = 0.3816\tstep 61000: average return = -203.3 cullsteps = 200.0\n",
      "step = 61500: loss = 0.2756\tstep = 62000: loss = 0.3609\tstep 62000: average return = -128.5 cullsteps = 200.0\n",
      "step = 62500: loss = 0.0724\tstep = 63000: loss = 0.0424\tstep 63000: average return = -279.5 cullsteps = 200.0\n",
      "step = 63500: loss = 0.3274\tstep = 64000: loss = 0.4108\tstep 64000: average return = -156.2 cullsteps = 200.0\n",
      "step = 64500: loss = 0.2478\tstep = 65000: loss = 0.5220\tstep 65000: average return = -120.2 cullsteps = 200.0\n",
      "step = 65500: loss = 0.4852\tstep = 66000: loss = 0.5463\t"
     ]
    },
    {
     "name": "stderr",
     "output_type": "stream",
     "text": [
      "WARNING:absl:Function `function_with_signature` contains input name(s) 0/step_type, 0/reward, 0/discount, 0/observation with unsupported characters which will be renamed to step_type, reward, discount, observation in the SavedModel.\n",
      "WARNING:absl:Found untraced functions such as sequential_layer_call_fn, sequential_layer_call_and_return_conditional_losses, sequential_layer_call_fn, sequential_layer_call_and_return_conditional_losses, sequential_layer_call_and_return_conditional_losses while saving (showing 5 of 25). These functions will not be directly callable after loading.\n"
     ]
    },
    {
     "name": "stdout",
     "output_type": "stream",
     "text": [
      "step 66000: average return = -82.7 cullsteps = 200.0\n",
      "New best return:  tf.Tensor([-82.70242], shape=(1,), dtype=float32)\n",
      "INFO:tensorflow:Assets written to: /home/jovyan/Masterarbeit/DDPG/policy/66000/assets\n"
     ]
    },
    {
     "name": "stderr",
     "output_type": "stream",
     "text": [
      "/opt/conda/lib/python3.9/site-packages/tensorflow/python/saved_model/nested_structure_coder.py:558: UserWarning: Encoding a StructuredValue with type tfp.distributions.Deterministic_ACTTypeSpec; loading this StructuredValue will require that this type be imported and registered.\n",
      "  warnings.warn(\"Encoding a StructuredValue with type %s; loading this \"\n",
      "INFO:tensorflow:Assets written to: /home/jovyan/Masterarbeit/DDPG/policy/66000/assets\n"
     ]
    },
    {
     "name": "stdout",
     "output_type": "stream",
     "text": [
      "step = 66500: loss = 0.5562\tstep = 67000: loss = 0.6091\tstep 67000: average return = -101.9 cullsteps = 200.0\n",
      "step = 68000: loss = 0.9871\tstep 68000: average return = -534.0 cullsteps = 200.0\n",
      "step = 68500: loss = 0.0106\tstep = 69000: loss = 0.4432\tstep 69000: average return = -291.4 cullsteps = 200.0\n",
      "step = 69500: loss = 0.8843\tstep = 70000: loss = 2.4337\tstep 70000: average return = -195.2 cullsteps = 200.0\n",
      "step = 70500: loss = 1.1940\tstep = 71000: loss = 1.8093\tstep 71000: average return = -176.5 cullsteps = 200.0\n",
      "step = 71500: loss = 1.3171\tstep = 72000: loss = 0.0072\tstep 72000: average return = -127.8 cullsteps = 200.0\n",
      "step = 72500: loss = 0.7789\tstep = 73000: loss = 1.7922\tstep 73000: average return = -329.3 cullsteps = 200.0\n",
      "step = 73500: loss = 0.9994\tstep = 74000: loss = 2.1446\tstep 74000: average return = -578.9 cullsteps = 200.0\n",
      "step = 74500: loss = 1.9201\tstep = 75000: loss = 3.9910\tstep 75000: average return = -565.9 cullsteps = 200.0\n",
      "step = 75500: loss = 3.1178\tstep = 76000: loss = 0.0265\tstep 76000: average return = -585.6 cullsteps = 200.0\n",
      "step = 76500: loss = 0.0158\tstep = 77000: loss = 6.2640\tstep 77000: average return = -583.5 cullsteps = 200.0\n",
      "step = 77500: loss = 2.2785\tstep = 78000: loss = 9.8790\tstep 78000: average return = -358.1 cullsteps = 200.0\n",
      "step = 78500: loss = 8.4484\tstep = 79000: loss = 0.1017\tstep 79000: average return = -436.2 cullsteps = 200.0\n",
      "step = 79500: loss = 0.3122\tstep = 80000: loss = 3.3195\tstep 80000: average return = -477.9 cullsteps = 200.0\n",
      "step = 80500: loss = 12.1129\tstep = 81000: loss = 4.0089\tstep 81000: average return = -477.9 cullsteps = 200.0\n",
      "step = 81500: loss = 8.4881\tstep = 82000: loss = 4.4763\tstep 82000: average return = -179.5 cullsteps = 200.0\n",
      "step = 82500: loss = 4.5833\t"
     ]
    }
   ],
   "source": [
    "# Reset the train step\n",
    "agent.train_step_counter.assign(0)\n",
    "\n",
    "# Evaluate the agent's policy once before training.\n",
    "avg_return = compute_avg_return(eval_env, agent.policy, num_eval_episodes)\n",
    "returns = [avg_return]\n",
    "# Initialize policy saver\n",
    "saver = policy_saver.PolicySaver(agent.policy)\n",
    "best_return = -1000000\n",
    "root_dir = os.path.expanduser(root_dir)\n",
    "policy_dir = os.path.join(root_dir, 'policy')\n",
    "\n",
    "for _ in range(num_iterations):\n",
    "\n",
    "  # Collect a few steps using collect_policy and save to the replay buffer.\n",
    "  collect_data(train_env, agent.collect_policy, replay_buffer, collect_steps_per_iteration)\n",
    "\n",
    "  # Sample a batch of data from the buffer and update the agent's network.\n",
    "  experience, unused_info = next(iterator)\n",
    "  train_loss = agent.train(experience).loss\n",
    "\n",
    "  step = agent.train_step_counter.numpy()\n",
    "\n",
    "  if step % log_interval == 0:\n",
    "    print('step = {0:4>}: loss = {1:.4f}'.format(step, train_loss), end=\"\\t\")\n",
    "\n",
    "  if step % eval_interval == 0:\n",
    "    avg_return, cullsteps = compute_avg_return(eval_env, agent.policy, num_eval_episodes)\n",
    "    print('step {0}: average return = {1:.1f} cullsteps = {2:.1f}'.format(step, avg_return.numpy().item(), cullsteps))\n",
    "    returns.append(avg_return)\n",
    "    if avg_return > best_return:\n",
    "            best_return = avg_return\n",
    "            print('New best return: ', best_return)\n",
    "            saver.save(os.path.join(policy_dir, str(global_step.numpy())))\n",
    "    elif step % threshhold_reset_interval == 0:\n",
    "        best_return = -1000000"
   ]
  },
  {
   "cell_type": "code",
   "execution_count": null,
   "metadata": {},
   "outputs": [],
   "source": [
    "learned_reward, culleps = compute_avg_return(eval_env, agent.policy, num_episodes=500)\n",
    "print (\"reward of learned policy: \", learned_reward.numpy(), \"cullsteps=\", culleps)"
   ]
  },
  {
   "cell_type": "code",
   "execution_count": null,
   "metadata": {},
   "outputs": [],
   "source": [
    "init_ts = eval_env.reset()\n",
    "\n",
    "def get_action(obs):\n",
    "    \"\"\" execute the learned policy network \n",
    "       obs:  one float for global time, one float for each herd - the time since last culling\n",
    "    \"\"\"\n",
    "    _ts = TimeStep(tf.constant([0.]),\n",
    "                   tf.constant([0.]),\n",
    "                   tf.constant([1]),\n",
    "                   tf.constant([obs]))\n",
    "    # a = agent.collect_policy.action(_ts) # just to see how much is explored versus exploited\n",
    "    a = agent.policy.action(_ts)\n",
    "    return a.action.numpy().item()"
   ]
  },
  {
   "cell_type": "code",
   "execution_count": null,
   "metadata": {},
   "outputs": [],
   "source": [
    "agent.policy"
   ]
  },
  {
   "cell_type": "code",
   "execution_count": null,
   "metadata": {},
   "outputs": [],
   "source": [
    "# what the learned policy does on a grid of observations (5 steps per row&col)\n",
    "'''A = [[get_action([.0, x,y])\n",
    " for y in np.arange(0.,1.,.05,np.float32)]\n",
    " for x in np.arange(0.,1.,.05,np.float32)]\n",
    "A'''"
   ]
  },
  {
   "cell_type": "markdown",
   "metadata": {},
   "source": [
    "### Play with parameters of manually designed q_network policy"
   ]
  },
  {
   "cell_type": "code",
   "execution_count": null,
   "metadata": {},
   "outputs": [],
   "source": [
    "# W, b = agent.policy.trainable_variables\n",
    "# W = W.numpy()\n",
    "# b = b.numpy()\n",
    "# print (\"weights\\n\", W, \"\\nbias\", b)"
   ]
  },
  {
   "cell_type": "code",
   "execution_count": null,
   "metadata": {},
   "outputs": [],
   "source": [
    "# def nn(obs):\n",
    "#    y = np.dot(obs, W)+b\n",
    "#    return y"
   ]
  },
  {
   "cell_type": "code",
   "execution_count": null,
   "metadata": {},
   "outputs": [],
   "source": [
    "# nn([0.5,.2])"
   ]
  },
  {
   "cell_type": "code",
   "execution_count": null,
   "metadata": {},
   "outputs": [],
   "source": []
  }
 ],
 "metadata": {
  "kernelspec": {
   "display_name": "Python 3",
   "language": "python",
   "name": "python3"
  },
  "language_info": {
   "codemirror_mode": {
    "name": "ipython",
    "version": 3
   },
   "file_extension": ".py",
   "mimetype": "text/x-python",
   "name": "python",
   "nbconvert_exporter": "python",
   "pygments_lexer": "ipython3",
   "version": "3.9.2"
  },
  "toc-autonumbering": true,
  "toc-showcode": true
 },
 "nbformat": 4,
 "nbformat_minor": 4
}
