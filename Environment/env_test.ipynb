{
 "cells": [
  {
   "cell_type": "markdown",
   "id": "0574eef1-bdb4-41f0-8073-50c20a190208",
   "metadata": {},
   "source": [
    "## Env Development  \n",
    "This will contain tests for developing environment."
   ]
  },
  {
   "cell_type": "code",
   "execution_count": 4,
   "id": "ffc619d0-37c3-47a3-9cbb-98c27e19621b",
   "metadata": {},
   "outputs": [],
   "source": [
    "from __future__ import absolute_import\n",
    "from __future__ import division\n",
    "from __future__ import print_function\n",
    "\n",
    "import functools\n",
    "import os\n",
    "import time\n",
    "\n",
    "from absl import app\n",
    "from absl import logging\n",
    "import sys\n",
    "sys.path.insert(1, '/home/jovyan/Masterarbeit/reinforce-one/Environment/Simplifications')\n",
    "sys.path.insert(1, '/home/jovyan/Masterarbeit/reinforce-one/Agent/DDPG/Test1_Frequent_Returns')\n",
    "\n",
    "import gin\n",
    "from six.moves import range\n",
    "import tensorflow as tf  # pylint: disable=g-explicit-tensorflow-version-import\n",
    "\n",
    "import matplotlib\n",
    "import matplotlib.pyplot as plt\n",
    "get_ipython().run_line_magic('matplotlib', 'inline')\n",
    "#plt.ioff() \n",
    "\n",
    "from tf_agents.agents.ddpg import actor_rnn_network\n",
    "from tf_agents.agents.ddpg import critic_rnn_network\n",
    "from tf_agents.agents.ddpg import ddpg_agent\n",
    "from tf_agents.drivers import dynamic_episode_driver\n",
    "from tf_agents.environments import suite_dm_control\n",
    "from tf_agents.environments import tf_py_environment\n",
    "from tf_agents.environments import py_environment\n",
    "from tf_agents.environments import wrappers\n",
    "from tf_agents.eval import metric_utils\n",
    "from tf_agents.metrics import tf_metrics\n",
    "from tf_agents.replay_buffers import tf_uniform_replay_buffer\n",
    "from tf_agents.utils import common\n",
    "\n",
    "import numpy as np\n",
    "from tf_agents.environments import utils\n",
    "from tf_agents.trajectories.time_step import StepType\n",
    "from tf_agents.trajectories import TimeStep\n",
    "from tf_agents.policies import scripted_py_policy\n",
    "from tf_agents.policies import random_py_policy\n",
    "from tf_agents.policies import policy_saver\n",
    "from tf_agents.metrics import py_metrics\n",
    "from tf_agents.drivers import py_driver\n",
    "from tf_agents.specs import tensor_spec\n",
    "from tf_agents.networks import sequential\n",
    "\n",
    "from Env import Env\n",
    "from FR_Env import FREnv\n",
    "from Env_no_tests import Env_NT\n",
    "from Env_Simple import Env_S\n",
    "\n",
    "max_episode_length=1000\n",
    "num_herds = 2\n",
    "total_population = 300"
   ]
  },
  {
   "cell_type": "code",
   "execution_count": 5,
   "id": "dbeccb84-17d0-42c0-a336-fe9b94747e60",
   "metadata": {},
   "outputs": [],
   "source": [
    "#py_env = Env_NT(num_herds = num_herds, total_population = total_population, fix_episode_length=True, average_episode_length = 200)\n",
    "py_env = Env_S(num_herds = num_herds, total_population = total_population, fix_episode_length=True, average_episode_length = 200)"
   ]
  },
  {
   "cell_type": "markdown",
   "id": "1dd1ce9b-cd1c-4aa0-a7de-1409feb35aae",
   "metadata": {},
   "source": [
    "First, test environment input and output."
   ]
  },
  {
   "cell_type": "code",
   "execution_count": 6,
   "id": "fd5930af-342d-4875-a6ef-28f89f08dfa7",
   "metadata": {},
   "outputs": [
    {
     "name": "stdout",
     "output_type": "stream",
     "text": [
      "Reset:  TimeStep(\n",
      "{'discount': 1.0,\n",
      " 'observation': array([0., 0.], dtype=float32),\n",
      " 'reward': 0.0,\n",
      " 'step_type': array(0, dtype=int32)})\n",
      "[150 150  15   2]\n",
      "[0.1        0.01333333]\n",
      "Step:  TimeStep(\n",
      "{'discount': array(1., dtype=float32),\n",
      " 'observation': array([0.1       , 0.01333333], dtype=float32),\n",
      " 'reward': array(-0.22666667, dtype=float32),\n",
      " 'step_type': array(1, dtype=int32)})\n",
      "[150 150  18   5]\n",
      "[0.12       0.03333334]\n",
      "Step:  TimeStep(\n",
      "{'discount': array(1., dtype=float32),\n",
      " 'observation': array([0.12      , 0.03333334], dtype=float32),\n",
      " 'reward': array(-0.53333336, dtype=float32),\n",
      " 'step_type': array(1, dtype=int32)})\n",
      "[150 150  21   8]\n",
      "[0.14       0.05333333]\n",
      "Step:  TimeStep(\n",
      "{'discount': array(1., dtype=float32),\n",
      " 'observation': array([0.14      , 0.05333333], dtype=float32),\n",
      " 'reward': array(-0.92, dtype=float32),\n",
      " 'step_type': array(1, dtype=int32)})\n",
      "[150 150  25   9]\n",
      "[0.16666667 0.06      ]\n",
      "Step:  TimeStep(\n",
      "{'discount': array(1., dtype=float32),\n",
      " 'observation': array([0.16666667, 0.06      ], dtype=float32),\n",
      " 'reward': array(-1.3733333, dtype=float32),\n",
      " 'step_type': array(1, dtype=int32)})\n",
      "[150 150  27  12]\n",
      "[0.18 0.08]\n",
      "Step:  TimeStep(\n",
      "{'discount': array(1., dtype=float32),\n",
      " 'observation': array([0.18, 0.08], dtype=float32),\n",
      " 'reward': array(-1.8933333, dtype=float32),\n",
      " 'step_type': array(1, dtype=int32)})\n",
      "[150 150  31  17]\n",
      "[0.20666666 0.11333334]\n",
      "Step:  TimeStep(\n",
      "{'discount': array(1., dtype=float32),\n",
      " 'observation': array([0.20666666, 0.11333334], dtype=float32),\n",
      " 'reward': array(-2.5333333, dtype=float32),\n",
      " 'step_type': array(1, dtype=int32)})\n",
      "[150 150  32  18]\n",
      "[0.21333334 0.12      ]\n",
      "Step:  TimeStep(\n",
      "{'discount': array(1., dtype=float32),\n",
      " 'observation': array([0.21333334, 0.12      ], dtype=float32),\n",
      " 'reward': array(-3.2, dtype=float32),\n",
      " 'step_type': array(1, dtype=int32)})\n",
      "[150 150  33  21]\n",
      "[0.22 0.14]\n",
      "Step:  TimeStep(\n",
      "{'discount': array(1., dtype=float32),\n",
      " 'observation': array([0.22, 0.14], dtype=float32),\n",
      " 'reward': array(-3.92, dtype=float32),\n",
      " 'step_type': array(1, dtype=int32)})\n",
      "[150 150  40  25]\n",
      "[0.26666668 0.16666667]\n",
      "Step:  TimeStep(\n",
      "{'discount': array(1., dtype=float32),\n",
      " 'observation': array([0.26666668, 0.16666667], dtype=float32),\n",
      " 'reward': array(-4.786667, dtype=float32),\n",
      " 'step_type': array(1, dtype=int32)})\n",
      "[150 150  44  29]\n",
      "[0.29333332 0.19333333]\n",
      "Step:  TimeStep(\n",
      "{'discount': array(1., dtype=float32),\n",
      " 'observation': array([0.29333332, 0.19333333], dtype=float32),\n",
      " 'reward': array(-5.76, dtype=float32),\n",
      " 'step_type': array(1, dtype=int32)})\n"
     ]
    }
   ],
   "source": [
    "zero_step = py_env.reset()\n",
    "print('Reset: ', zero_step)\n",
    "for i in range (0,10):\n",
    "    step = py_env.step([0.,0.])\n",
    "    print('Step: ', step)"
   ]
  },
  {
   "cell_type": "markdown",
   "id": "180fc0e5-420c-4921-83ae-29bba2e1a407",
   "metadata": {},
   "source": [
    "Define two scripted policies:"
   ]
  },
  {
   "cell_type": "code",
   "execution_count": null,
   "id": "3d284752-3370-4a49-b7bd-12b648a7a9ea",
   "metadata": {},
   "outputs": [],
   "source": [
    "# Define t\n",
    "\n",
    "action_script1 = [(10, [0,0,0,0]), \n",
    "                 (1, [0,0,1,1]),\n",
    "                 (10, [0,0,0,0]), \n",
    "                 (1, [0,0,1,1])] * int(1+max_episode_length)\n",
    "\n",
    "scr_pol_1 = scripted_py_policy.ScriptedPyPolicy(\n",
    "    time_step_spec=py_env.time_step_spec(),\n",
    "    action_spec=py_env.action_spec(),\n",
    "    action_script=action_script1)\n",
    "\n",
    "action_script2 = [(7, [0,0,0,0]), \n",
    "                 (1, [0,0,1,1]),\n",
    "                 (7, [0,0,0,0]), \n",
    "                 (1, [0,0,1,1])] * int(1+max_episode_length)\n",
    "\n",
    "scr_pol_2 = scripted_py_policy.ScriptedPyPolicy(\n",
    "    time_step_spec=py_env.time_step_spec(),\n",
    "    action_spec=py_env.action_spec(),\n",
    "    action_script=action_script2)\n",
    "\n",
    "action_script3 = [(8, [0,0]), \n",
    "                 (1, [1,1]),\n",
    "                 (8, [0,0]), \n",
    "                 (1, [1,1])] * int(1+max_episode_length)\n",
    "\n",
    "scr_pol_3 = scripted_py_policy.ScriptedPyPolicy(\n",
    "    time_step_spec=py_env.time_step_spec(),\n",
    "    action_spec=py_env.action_spec(),\n",
    "    action_script=action_script3)"
   ]
  },
  {
   "cell_type": "markdown",
   "id": "b854a6cb-abb4-4208-8efd-3891fd77f04f",
   "metadata": {},
   "source": [
    "And create a random policy:"
   ]
  },
  {
   "cell_type": "code",
   "execution_count": null,
   "id": "9d0bdb49-4691-4eed-9478-b20e23063305",
   "metadata": {},
   "outputs": [],
   "source": [
    "random_policy = random_py_policy.RandomPyPolicy(time_step_spec=py_env.time_step_spec(), \n",
    "                                                action_spec=py_env.action_spec())"
   ]
  },
  {
   "cell_type": "markdown",
   "id": "c6d0f36e-9255-4e29-84e0-6fbb2f3463c8",
   "metadata": {},
   "source": [
    "Now write a function that tests an environment with any policy.  \n",
    "Outputs average return over a set number of episodes and average steps where the agent culled one or more herds."
   ]
  },
  {
   "cell_type": "code",
   "execution_count": null,
   "id": "e0c12c15-4651-46eb-ba8d-976b4f60825e",
   "metadata": {},
   "outputs": [],
   "source": [
    "def test_rnn_env(environment, policy, num_episodes=50):\n",
    "    if isinstance(environment, py_environment.PyEnvironment):\n",
    "        total_return = 0.0\n",
    "        cullsteps = 0 \n",
    "        if environment.action_spec().shape[0] == num_herds:\n",
    "            only_culls = True\n",
    "        else:\n",
    "            only_culls = False\n",
    "        for e in range(num_episodes):\n",
    "\n",
    "            time_step = environment.reset()\n",
    "            if isinstance(policy, scripted_py_policy.ScriptedPyPolicy):\n",
    "                policy_state = policy.get_initial_state() # remember where in the script we were\n",
    "            else:\n",
    "                #print(policy.get_initial_state(batch_size=train_env.batch_size()))\n",
    "                policy_state = policy.get_initial_state(batch_size=1) # other policies without memory\n",
    "            episode_return = 0.0\n",
    "            i=0\n",
    "            while not time_step.is_last():\n",
    "                i+=1\n",
    "                action_step = policy.action(time_step, policy_state)\n",
    "                if only_culls:\n",
    "                    for i in range (0, num_herds):\n",
    "                        if action_step.action[i] > 0:\n",
    "                            cullsteps += 1\n",
    "                else:\n",
    "                    for i in range (num_herds, num_herds*2):\n",
    "                        if action_step.action[i] > 0:\n",
    "                            cullsteps += 1\n",
    "                policy_state = action_step.state\n",
    "                time_step = environment.step(action_step.action)\n",
    "\n",
    "                episode_return += time_step.reward\n",
    "\n",
    "            total_return += episode_return\n",
    "\n",
    "        avg_return = total_return / num_episodes\n",
    "        cullsteps /= num_episodes\n",
    "        return avg_return, cullsteps\n",
    "    else:\n",
    "        return None"
   ]
  },
  {
   "cell_type": "markdown",
   "id": "ba504a37-2353-4917-a9b1-1fedb2a417d0",
   "metadata": {},
   "source": [
    "At this point, use the policies for stress testing."
   ]
  },
  {
   "cell_type": "code",
   "execution_count": null,
   "id": "914658bd-cdb0-4d92-9ec2-9575f8dec361",
   "metadata": {},
   "outputs": [],
   "source": [
    "avg_return, culls = test_rnn_env(py_env, scr_pol_1, num_episodes = 200)\n",
    "culls /= 2\n",
    "print('average return = {0} cullsteps = {1}'.format(avg_return, culls))"
   ]
  },
  {
   "cell_type": "code",
   "execution_count": null,
   "id": "51e8955e-fc0e-4a71-bfca-5393e62e2ccc",
   "metadata": {},
   "outputs": [],
   "source": [
    "avg_return, culls = test_rnn_env(py_env, scr_pol_3, num_episodes = 200)\n",
    "culls /= 2\n",
    "print('average return = {0} cullsteps = {1}'.format(avg_return, culls))"
   ]
  },
  {
   "cell_type": "code",
   "execution_count": null,
   "id": "fb8a3bba-2609-4401-b81e-201fa5903f4b",
   "metadata": {},
   "outputs": [],
   "source": [
    "avg_return, culls = test_rnn_env(py_env, scr_pol_2 , num_episodes = 200)\n",
    "culls /= 2\n",
    "print('average return = {0} cullsteps = {1}'.format(avg_return, culls))"
   ]
  },
  {
   "cell_type": "code",
   "execution_count": null,
   "id": "b62c9d6d-19ca-44ee-81cf-f1f2fc4f4219",
   "metadata": {},
   "outputs": [],
   "source": [
    "avg_return, culls = test_rnn_env(py_env, random_policy , num_episodes = 200)\n",
    "culls /= 2\n",
    "print('average return = {0} cullsteps = {1}'.format(avg_return, culls))"
   ]
  },
  {
   "cell_type": "markdown",
   "id": "0c968435-4e30-4315-8503-1da187ac820c",
   "metadata": {},
   "source": [
    "Additionally, run a Pseudo-Agent. Currently only works for 2 Herds."
   ]
  },
  {
   "cell_type": "code",
   "execution_count": null,
   "id": "f0d6edea-d76c-4f99-970f-e2683b8b1872",
   "metadata": {
    "tags": []
   },
   "outputs": [],
   "source": [
    "def PseudoAgent(env, num_episodes):\n",
    "    assert num_episodes >= 0, \"Please enter a positive integer for episode number.\"\n",
    "    \n",
    "    # Outputs\n",
    "    total_culls_h1 = 0\n",
    "    total_culls_h2 = 0\n",
    "    total_return = 0.\n",
    "    \n",
    "    for i in range (0, num_episodes):\n",
    "        time_step = env.reset()\n",
    "        counter = 0\n",
    "        episode_return = 0.\n",
    "        cw_1 = 0\n",
    "        while not time_step.is_last():\n",
    "            act = [0.,0.,0.,0.]\n",
    "            if counter % 3 == 0:\n",
    "                act[0] = 0.5\n",
    "                act[1] = 0.5\n",
    "            counter += 1\n",
    "            # 3/epl because of 3 weeks until testresults\n",
    "            if (time_step.observation[1] >= 0.07 or time_step.observation[2] >= 0.07) and cw_1 >= 5:\n",
    "                act[2] = 1.\n",
    "                act[3] = 1.\n",
    "                total_culls_h1 += 1\n",
    "                cw_1 = 0\n",
    "            else:\n",
    "                cw_1 += 1\n",
    "            time_step = env.step(act)\n",
    "            episode_return += time_step.reward\n",
    "        total_return += episode_return\n",
    "        \n",
    "    avg_culls_h2 = total_culls_h2 / num_episodes\n",
    "    avg_culls_h1 = total_culls_h1 / num_episodes\n",
    "    avg_return = total_return / num_episodes\n",
    "    return avg_culls_h1, avg_culls_h2, avg_return"
   ]
  },
  {
   "cell_type": "code",
   "execution_count": null,
   "id": "329726c6-8999-48e1-9596-03f382cd9712",
   "metadata": {},
   "outputs": [],
   "source": [
    "c1,c2,ar = PseudoAgent(py_env, 200)\n",
    "print('Average culls herd 1: ', c1)\n",
    "print('Average culls herd 2: ', c2)\n",
    "print('Average Return: ', ar)"
   ]
  },
  {
   "cell_type": "code",
   "execution_count": null,
   "id": "e9e3b81e-0da8-49cf-ac1a-adc3fa2e1282",
   "metadata": {},
   "outputs": [],
   "source": [
    "# Testing whether reward function values make sense\n",
    "cull_cost = 2.5\n",
    "herd_population = 10\n",
    "\n",
    "pop = np.linspace(herd_population*cull_cost,herd_population*cull_cost,num=herd_population)\n",
    "ran = np.arange(0, herd_population, 1)\n",
    "\n",
    "plt.plot(ran, ran*5,'r--', ran, pop,'b--')"
   ]
  },
  {
   "cell_type": "code",
   "execution_count": null,
   "id": "0c256c2c-2a39-4dcd-b022-7c5fadb5739c",
   "metadata": {},
   "outputs": [],
   "source": [
    "# Testing reward function for different herd sizes\n"
   ]
  }
 ],
 "metadata": {
  "kernelspec": {
   "display_name": "Python 3",
   "language": "python",
   "name": "python3"
  },
  "language_info": {
   "codemirror_mode": {
    "name": "ipython",
    "version": 3
   },
   "file_extension": ".py",
   "mimetype": "text/x-python",
   "name": "python",
   "nbconvert_exporter": "python",
   "pygments_lexer": "ipython3",
   "version": "3.9.2"
  }
 },
 "nbformat": 4,
 "nbformat_minor": 5
}
