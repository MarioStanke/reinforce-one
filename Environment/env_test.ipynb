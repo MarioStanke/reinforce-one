{
 "cells": [
  {
   "cell_type": "markdown",
   "id": "0574eef1-bdb4-41f0-8073-50c20a190208",
   "metadata": {},
   "source": [
    "## Env Development  \n",
    "This will contain tests for developing environment."
   ]
  },
  {
   "cell_type": "code",
   "execution_count": 1,
   "id": "ffc619d0-37c3-47a3-9cbb-98c27e19621b",
   "metadata": {},
   "outputs": [],
   "source": [
    "from __future__ import absolute_import\n",
    "from __future__ import division\n",
    "from __future__ import print_function\n",
    "\n",
    "import functools\n",
    "import os\n",
    "import time\n",
    "\n",
    "from absl import app\n",
    "from absl import logging\n",
    "\n",
    "import gin\n",
    "from six.moves import range\n",
    "import tensorflow as tf  # pylint: disable=g-explicit-tensorflow-version-import\n",
    "\n",
    "import matplotlib\n",
    "import matplotlib.pyplot as plt\n",
    "get_ipython().run_line_magic('matplotlib', 'inline')\n",
    "#plt.ioff() \n",
    "\n",
    "from tf_agents.agents.ddpg import actor_rnn_network\n",
    "from tf_agents.agents.ddpg import critic_rnn_network\n",
    "from tf_agents.agents.ddpg import ddpg_agent\n",
    "from tf_agents.drivers import dynamic_episode_driver\n",
    "from tf_agents.environments import suite_dm_control\n",
    "from tf_agents.environments import tf_py_environment\n",
    "from tf_agents.environments import py_environment\n",
    "from tf_agents.environments import wrappers\n",
    "from tf_agents.eval import metric_utils\n",
    "from tf_agents.metrics import tf_metrics\n",
    "from tf_agents.replay_buffers import tf_uniform_replay_buffer\n",
    "from tf_agents.utils import common\n",
    "\n",
    "import numpy as np\n",
    "from tf_agents.environments import utils\n",
    "from tf_agents.trajectories.time_step import StepType\n",
    "from tf_agents.trajectories import TimeStep\n",
    "from tf_agents.policies import scripted_py_policy\n",
    "from tf_agents.policies import random_py_policy\n",
    "from tf_agents.policies import policy_saver\n",
    "from tf_agents.metrics import py_metrics\n",
    "from tf_agents.drivers import py_driver\n",
    "from tf_agents.specs import tensor_spec\n",
    "from tf_agents.networks import sequential\n",
    "\n",
    "from Env import Env\n",
    "max_episode_length=1000\n",
    "num_herds = 2\n",
    "total_population = 300"
   ]
  },
  {
   "cell_type": "code",
   "execution_count": 2,
   "id": "dbeccb84-17d0-42c0-a336-fe9b94747e60",
   "metadata": {},
   "outputs": [],
   "source": [
    "py_env = Env(num_herds = num_herds, total_population = total_population, fix_episode_length=True, average_episode_length = 100)"
   ]
  },
  {
   "cell_type": "markdown",
   "id": "1dd1ce9b-cd1c-4aa0-a7de-1409feb35aae",
   "metadata": {},
   "source": [
    "First, test environment input and output."
   ]
  },
  {
   "cell_type": "code",
   "execution_count": 3,
   "id": "fd5930af-342d-4875-a6ef-28f89f08dfa7",
   "metadata": {},
   "outputs": [
    {
     "name": "stdout",
     "output_type": "stream",
     "text": [
      "Reset:  TimeStep(\n",
      "{'discount': 1.0,\n",
      " 'observation': array([0., 0., 0., 0., 0., 0., 0.], dtype=float32),\n",
      " 'reward': 0.0,\n",
      " 'step_type': array(0, dtype=int32)})\n",
      "Step:  TimeStep(\n",
      "{'discount': array(1., dtype=float32),\n",
      " 'observation': array([0.01, 0.01, 0.  , 0.  , 0.01, 0.  , 0.  ], dtype=float32),\n",
      " 'reward': array(-1.068593, dtype=float32),\n",
      " 'step_type': array(1, dtype=int32)})\n",
      "Step:  TimeStep(\n",
      "{'discount': array(1., dtype=float32),\n",
      " 'observation': array([0.02, 0.02, 0.  , 0.  , 0.02, 0.  , 0.  ], dtype=float32),\n",
      " 'reward': array(-2.3114612, dtype=float32),\n",
      " 'step_type': array(1, dtype=int32)})\n",
      "Step:  TimeStep(\n",
      "{'discount': array(1., dtype=float32),\n",
      " 'observation': array([0.03, 0.03, 0.  , 0.  , 0.03, 0.  , 0.  ], dtype=float32),\n",
      " 'reward': array(-3.6544127, dtype=float32),\n",
      " 'step_type': array(1, dtype=int32)})\n",
      "Step:  TimeStep(\n",
      "{'discount': array(1., dtype=float32),\n",
      " 'observation': array([0.04      , 0.03      , 0.88666666, 0.11333334, 0.03      ,\n",
      "       0.98      , 0.02      ], dtype=float32),\n",
      " 'reward': array(-5.0605836, dtype=float32),\n",
      " 'step_type': array(1, dtype=int32)})\n",
      "Step:  TimeStep(\n",
      "{'discount': array(1., dtype=float32),\n",
      " 'observation': array([0.05, 0.03, 0.86, 0.14, 0.03, 0.98, 0.02], dtype=float32),\n",
      " 'reward': array(-6.5727563, dtype=float32),\n",
      " 'step_type': array(1, dtype=int32)})\n",
      "Step:  TimeStep(\n",
      "{'discount': array(1., dtype=float32),\n",
      " 'observation': array([0.06      , 0.03      , 0.8666667 , 0.13333334, 0.03      ,\n",
      "       0.94      , 0.06      ], dtype=float32),\n",
      " 'reward': array(-8.214649, dtype=float32),\n",
      " 'step_type': array(1, dtype=int32)})\n",
      "Step:  TimeStep(\n",
      "{'discount': array(1., dtype=float32),\n",
      " 'observation': array([0.07      , 0.03      , 0.8666667 , 0.13333334, 0.03      ,\n",
      "       0.9266667 , 0.07333333], dtype=float32),\n",
      " 'reward': array(-10.174263, dtype=float32),\n",
      " 'step_type': array(1, dtype=int32)})\n",
      "Step:  TimeStep(\n",
      "{'discount': array(1., dtype=float32),\n",
      " 'observation': array([0.08      , 0.03      , 0.8666667 , 0.13333334, 0.03      ,\n",
      "       0.9066667 , 0.09333333], dtype=float32),\n",
      " 'reward': array(-12.312687, dtype=float32),\n",
      " 'step_type': array(1, dtype=int32)})\n",
      "Step:  TimeStep(\n",
      "{'discount': array(1., dtype=float32),\n",
      " 'observation': array([0.09      , 0.03      , 0.85333335, 0.14666666, 0.03      ,\n",
      "       0.9       , 0.1       ], dtype=float32),\n",
      " 'reward': array(-14.550022, dtype=float32),\n",
      " 'step_type': array(1, dtype=int32)})\n",
      "Step:  TimeStep(\n",
      "{'discount': array(1., dtype=float32),\n",
      " 'observation': array([0.1       , 0.03      , 0.82666665, 0.17333333, 0.03      ,\n",
      "       0.88      , 0.12      ], dtype=float32),\n",
      " 'reward': array(-16.888273, dtype=float32),\n",
      " 'step_type': array(1, dtype=int32)})\n"
     ]
    }
   ],
   "source": [
    "zero_step = py_env.reset()\n",
    "print('Reset: ', zero_step)\n",
    "for i in range (0,10):\n",
    "    step = py_env.step([1.,1.,0.,0.])\n",
    "    print('Step: ', step)"
   ]
  },
  {
   "cell_type": "markdown",
   "id": "180fc0e5-420c-4921-83ae-29bba2e1a407",
   "metadata": {},
   "source": [
    "Define two scripted policies:"
   ]
  },
  {
   "cell_type": "code",
   "execution_count": 4,
   "id": "3d284752-3370-4a49-b7bd-12b648a7a9ea",
   "metadata": {},
   "outputs": [],
   "source": [
    "# Define t\n",
    "\n",
    "action_script1 = [(10, [0,0,0,0]), \n",
    "                 (1, [0,0,1,1]),\n",
    "                 (10, [0,0,0,0]), \n",
    "                 (1, [0,0,1,1])] * int(1+max_episode_length)\n",
    "\n",
    "scr_pol_1 = scripted_py_policy.ScriptedPyPolicy(\n",
    "    time_step_spec=py_env.time_step_spec(),\n",
    "    action_spec=py_env.action_spec(),\n",
    "    action_script=action_script1)\n",
    "\n",
    "action_script2 = [(7, [0,0,0,0]), \n",
    "                 (1, [0,0,1,1]),\n",
    "                 (7, [0,0,0,0]), \n",
    "                 (1, [0,0,1,1])] * int(1+max_episode_length)\n",
    "\n",
    "scr_pol_2 = scripted_py_policy.ScriptedPyPolicy(\n",
    "    time_step_spec=py_env.time_step_spec(),\n",
    "    action_spec=py_env.action_spec(),\n",
    "    action_script=action_script2)"
   ]
  },
  {
   "cell_type": "markdown",
   "id": "b854a6cb-abb4-4208-8efd-3891fd77f04f",
   "metadata": {},
   "source": [
    "And create a random policy:"
   ]
  },
  {
   "cell_type": "code",
   "execution_count": 5,
   "id": "9d0bdb49-4691-4eed-9478-b20e23063305",
   "metadata": {},
   "outputs": [],
   "source": [
    "random_policy = random_py_policy.RandomPyPolicy(time_step_spec=py_env.time_step_spec(), \n",
    "                                                action_spec=py_env.action_spec())"
   ]
  },
  {
   "cell_type": "markdown",
   "id": "c6d0f36e-9255-4e29-84e0-6fbb2f3463c8",
   "metadata": {},
   "source": [
    "Now write a function that tests an environment with any policy.  \n",
    "Outputs average return over a set number of episodes and average steps where the agent culled one or more herds."
   ]
  },
  {
   "cell_type": "code",
   "execution_count": 6,
   "id": "e0c12c15-4651-46eb-ba8d-976b4f60825e",
   "metadata": {},
   "outputs": [],
   "source": [
    "def test_rnn_env(environment, policy, num_episodes=50):\n",
    "    if isinstance(environment, py_environment.PyEnvironment):\n",
    "        total_return = 0.0\n",
    "        cullsteps = 0 \n",
    "        for e in range(num_episodes):\n",
    "\n",
    "            time_step = environment.reset()\n",
    "            if isinstance(policy, scripted_py_policy.ScriptedPyPolicy):\n",
    "                policy_state = policy.get_initial_state() # remember where in the script we were\n",
    "            else:\n",
    "                #print(policy.get_initial_state(batch_size=train_env.batch_size()))\n",
    "                policy_state = policy.get_initial_state(batch_size=1) # other policies without memory\n",
    "            episode_return = 0.0\n",
    "            i=0\n",
    "            while not time_step.is_last():\n",
    "                i+=1\n",
    "                action_step = policy.action(time_step, policy_state)\n",
    "                for i in range (num_herds, num_herds*2):\n",
    "                    if action_step.action[i] > 0:\n",
    "                        cullsteps += 1\n",
    "                        \n",
    "                policy_state = action_step.state\n",
    "                time_step = environment.step(action_step.action)\n",
    "\n",
    "                episode_return += time_step.reward\n",
    "\n",
    "            total_return += episode_return\n",
    "\n",
    "        avg_return = total_return / num_episodes\n",
    "        cullsteps /= num_episodes\n",
    "        return avg_return, cullsteps\n",
    "    else:\n",
    "        return None"
   ]
  },
  {
   "cell_type": "markdown",
   "id": "ba504a37-2353-4917-a9b1-1fedb2a417d0",
   "metadata": {},
   "source": [
    "At this point, use the policies for stress testing."
   ]
  },
  {
   "cell_type": "code",
   "execution_count": 7,
   "id": "914658bd-cdb0-4d92-9ec2-9575f8dec361",
   "metadata": {},
   "outputs": [
    {
     "name": "stdout",
     "output_type": "stream",
     "text": [
      "average return = -4336.004935503402 cullsteps = 9.0\n"
     ]
    }
   ],
   "source": [
    "avg_return, culls = test_rnn_env(py_env, scr_pol_1, num_episodes = 200)\n",
    "culls /= 2\n",
    "print('average return = {0} cullsteps = {1}'.format(avg_return, culls))"
   ]
  },
  {
   "cell_type": "code",
   "execution_count": 8,
   "id": "51e8955e-fc0e-4a71-bfca-5393e62e2ccc",
   "metadata": {},
   "outputs": [
    {
     "name": "stdout",
     "output_type": "stream",
     "text": [
      "average return = -4287.3925736302135 cullsteps = 12.0\n"
     ]
    }
   ],
   "source": [
    "avg_return, culls = test_rnn_env(py_env, scr_pol_2, num_episodes = 200)\n",
    "culls /= 2\n",
    "print('average return = {0} cullsteps = {1}'.format(avg_return, culls))"
   ]
  },
  {
   "cell_type": "code",
   "execution_count": 9,
   "id": "7aa803ed-c4f0-4400-8b2b-5f8aeefdc6bd",
   "metadata": {},
   "outputs": [
    {
     "name": "stdout",
     "output_type": "stream",
     "text": [
      "average return = -14365.294085966796 cullsteps = 100.0\n"
     ]
    }
   ],
   "source": [
    "avg_return, culls = test_rnn_env(py_env, random_policy , num_episodes = 200)\n",
    "culls /= 2\n",
    "print('average return = {0} cullsteps = {1}'.format(avg_return, culls))"
   ]
  },
  {
   "cell_type": "markdown",
   "id": "0c968435-4e30-4315-8503-1da187ac820c",
   "metadata": {},
   "source": [
    "Additionally, run a Pseudo-Agent."
   ]
  },
  {
   "cell_type": "code",
   "execution_count": 10,
   "id": "f0d6edea-d76c-4f99-970f-e2683b8b1872",
   "metadata": {
    "tags": []
   },
   "outputs": [],
   "source": [
    "def PseudoAgent(env, num_episodes):\n",
    "    assert num_episodes >= 0, \"Please enter a positive integer for episode number.\"\n",
    "    \n",
    "    # Outputs\n",
    "    total_culls_h1 = 0\n",
    "    total_culls_h2 = 0\n",
    "    total_return = 0.\n",
    "    \n",
    "    for i in range (0, num_episodes):\n",
    "        time_step = env.reset()\n",
    "        counter = 0\n",
    "        episode_return = 0.\n",
    "        cw_1 = 0\n",
    "        while not time_step.is_last():\n",
    "            act = [0.,0.,0.,0.]\n",
    "            if counter % 3 == 0:\n",
    "                act[0] = 0.5\n",
    "                act[1] = 0.5\n",
    "            counter += 1\n",
    "            # 3/epl because of 3 weeks until testresults\n",
    "            if (time_step.observation[3] >= 0.07 or time_step.observation[6] >= 0.07) and cw_1 >= 5:\n",
    "                act[2] = 1.\n",
    "                act[3] = 1.\n",
    "                total_culls_h1 += 1\n",
    "                cw_1 = 0\n",
    "            else:\n",
    "                cw_1 += 1\n",
    "            time_step = env.step(act)\n",
    "            episode_return += time_step.reward\n",
    "        total_return += episode_return\n",
    "        \n",
    "    avg_culls_h2 = total_culls_h2 / num_episodes\n",
    "    avg_culls_h1 = total_culls_h1 / num_episodes\n",
    "    avg_return = total_return / num_episodes\n",
    "    return avg_culls_h1, avg_culls_h2, avg_return"
   ]
  },
  {
   "cell_type": "code",
   "execution_count": 11,
   "id": "329726c6-8999-48e1-9596-03f382cd9712",
   "metadata": {},
   "outputs": [
    {
     "name": "stdout",
     "output_type": "stream",
     "text": [
      "Average culls herd 1:  8.79\n",
      "Average culls herd 2:  0.0\n",
      "Average Return:  -4759.979590873122\n"
     ]
    }
   ],
   "source": [
    "c1,c2,ar = PseudoAgent(py_env, 200)\n",
    "print('Average culls herd 1: ', c1)\n",
    "print('Average culls herd 2: ', c2)\n",
    "print('Average Return: ', ar)"
   ]
  },
  {
   "cell_type": "code",
   "execution_count": 12,
   "id": "e9e3b81e-0da8-49cf-ac1a-adc3fa2e1282",
   "metadata": {},
   "outputs": [
    {
     "data": {
      "text/plain": [
       "[<matplotlib.lines.Line2D at 0x7f7b9eaca280>,\n",
       " <matplotlib.lines.Line2D at 0x7f7b9eaca2e0>]"
      ]
     },
     "execution_count": 12,
     "metadata": {},
     "output_type": "execute_result"
    },
    {
     "data": {
      "image/png": "[encoded data removed]",
      "text/plain": [
       "<Figure size 432x288 with 1 Axes>"
      ]
     },
     "metadata": {
      "needs_background": "light"
     },
     "output_type": "display_data"
    }
   ],
   "source": [
    "# Testing whether reward function values make sense\n",
    "cull_cost = 2.5\n",
    "herd_population = 10\n",
    "\n",
    "pop = np.linspace(herd_population*cull_cost,herd_population*cull_cost,num=herd_population)\n",
    "ran = np.arange(0, herd_population, 1)\n",
    "\n",
    "plt.plot(ran, ran*5,'r--', ran, pop,'b--')"
   ]
  },
  {
   "cell_type": "code",
   "execution_count": 13,
   "id": "0c256c2c-2a39-4dcd-b022-7c5fadb5739c",
   "metadata": {},
   "outputs": [],
   "source": [
    "# Testing reward function for different herd sizes\n"
   ]
  }
 ],
 "metadata": {
  "kernelspec": {
   "display_name": "Python 3",
   "language": "python",
   "name": "python3"
  },
  "language_info": {
   "codemirror_mode": {
    "name": "ipython",
    "version": 3
   },
   "file_extension": ".py",
   "mimetype": "text/x-python",
   "name": "python",
   "nbconvert_exporter": "python",
   "pygments_lexer": "ipython3",
   "version": "3.9.2"
  }
 },
 "nbformat": 4,
 "nbformat_minor": 5
}
