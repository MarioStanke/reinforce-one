{
 "cells": [
  {
   "cell_type": "markdown",
   "id": "64389766-d771-40ee-af0c-a8db1229f1da",
   "metadata": {},
   "source": [
    "## Env Development  \n",
    "This will contain tests for developing environment."
   ]
  },
  {
   "cell_type": "code",
   "execution_count": 1,
   "id": "ffc619d0-37c3-47a3-9cbb-98c27e19621b",
   "metadata": {},
   "outputs": [],
   "source": [
    "from __future__ import absolute_import\n",
    "from __future__ import division\n",
    "from __future__ import print_function\n",
    "\n",
    "import functools\n",
    "import os\n",
    "import time\n",
    "\n",
    "from absl import app\n",
    "from absl import logging\n",
    "\n",
    "import gin\n",
    "from six.moves import range\n",
    "import tensorflow as tf  # pylint: disable=g-explicit-tensorflow-version-import\n",
    "\n",
    "from tf_agents.agents.ddpg import actor_rnn_network\n",
    "from tf_agents.agents.ddpg import critic_rnn_network\n",
    "from tf_agents.agents.ddpg import ddpg_agent\n",
    "from tf_agents.drivers import dynamic_episode_driver\n",
    "from tf_agents.environments import suite_dm_control\n",
    "from tf_agents.environments import tf_py_environment\n",
    "from tf_agents.environments import py_environment\n",
    "from tf_agents.environments import wrappers\n",
    "from tf_agents.eval import metric_utils\n",
    "from tf_agents.metrics import tf_metrics\n",
    "from tf_agents.replay_buffers import tf_uniform_replay_buffer\n",
    "from tf_agents.utils import common\n",
    "\n",
    "import numpy \n",
    "from tf_agents.environments import utils\n",
    "from tf_agents.trajectories.time_step import StepType\n",
    "from tf_agents.trajectories import TimeStep\n",
    "from tf_agents.policies import scripted_py_policy\n",
    "from tf_agents.policies import random_py_policy\n",
    "from tf_agents.policies import policy_saver\n",
    "from tf_agents.metrics import py_metrics\n",
    "from tf_agents.drivers import py_driver\n",
    "from tf_agents.specs import tensor_spec\n",
    "from tf_agents.networks import sequential\n",
    "\n",
    "from Env import Env\n",
    "max_episode_length=1000\n",
    "num_herds = 2\n",
    "total_population = 300"
   ]
  },
  {
   "cell_type": "code",
   "execution_count": 2,
   "id": "0b0ee9a5-080e-41a6-b9cb-a071b8d8493d",
   "metadata": {},
   "outputs": [],
   "source": [
    "py_env = Env(num_herds = num_herds, total_population = total_population)"
   ]
  },
  {
   "cell_type": "markdown",
   "id": "180fc0e5-420c-4921-83ae-29bba2e1a407",
   "metadata": {},
   "source": [
    "Define two scripted policies:"
   ]
  },
  {
   "cell_type": "code",
   "execution_count": 3,
   "id": "3d284752-3370-4a49-b7bd-12b648a7a9ea",
   "metadata": {},
   "outputs": [],
   "source": [
    "# Define t\n",
    "\n",
    "action_script1 = [(10, [0,0,0,0]), \n",
    "                 (1, [0,0,1,1]),\n",
    "                 (10, [0,0,0,0]), \n",
    "                 (1, [0,0,1,1])] * int(1+max_episode_length)\n",
    "\n",
    "scr_pol_1 = scripted_py_policy.ScriptedPyPolicy(\n",
    "    time_step_spec=py_env.time_step_spec(),\n",
    "    action_spec=py_env.action_spec(),\n",
    "    action_script=action_script1)\n",
    "\n",
    "action_script2 = [(7, [0,0,0,0]), \n",
    "                 (1, [0,0,1,1]),\n",
    "                 (7, [0,0,0,0]), \n",
    "                 (1, [0,0,1,1])] * int(1+max_episode_length)\n",
    "\n",
    "scr_pol_2 = scripted_py_policy.ScriptedPyPolicy(\n",
    "    time_step_spec=py_env.time_step_spec(),\n",
    "    action_spec=py_env.action_spec(),\n",
    "    action_script=action_script2)"
   ]
  },
  {
   "cell_type": "markdown",
   "id": "b854a6cb-abb4-4208-8efd-3891fd77f04f",
   "metadata": {},
   "source": [
    "And create a random policy:"
   ]
  },
  {
   "cell_type": "code",
   "execution_count": 4,
   "id": "9d0bdb49-4691-4eed-9478-b20e23063305",
   "metadata": {},
   "outputs": [],
   "source": [
    "random_policy = random_py_policy.RandomPyPolicy(time_step_spec=py_env.time_step_spec(), \n",
    "                                                action_spec=py_env.action_spec())"
   ]
  },
  {
   "cell_type": "markdown",
   "id": "c6d0f36e-9255-4e29-84e0-6fbb2f3463c8",
   "metadata": {},
   "source": [
    "Now write a function that tests an environment with any policy.  \n",
    "Outputs average return over a set number of episodes and average steps where the agent culled one or more herds."
   ]
  },
  {
   "cell_type": "code",
   "execution_count": 5,
   "id": "e0c12c15-4651-46eb-ba8d-976b4f60825e",
   "metadata": {},
   "outputs": [],
   "source": [
    "def test_rnn_env(environment, policy, num_episodes=50):\n",
    "    if isinstance(environment, py_environment.PyEnvironment):\n",
    "        total_return = 0.0\n",
    "        cullsteps = 0 \n",
    "        for e in range(num_episodes):\n",
    "\n",
    "            time_step = environment.reset()\n",
    "            if isinstance(policy, scripted_py_policy.ScriptedPyPolicy):\n",
    "                policy_state = policy.get_initial_state() # remember where in the script we were\n",
    "            else:\n",
    "                #print(policy.get_initial_state(batch_size=train_env.batch_size()))\n",
    "                policy_state = policy.get_initial_state(batch_size=1) # other policies without memory\n",
    "            episode_return = 0.0\n",
    "            i=0\n",
    "            while not time_step.is_last():\n",
    "                i+=1\n",
    "                action_step = policy.action(time_step, policy_state)\n",
    "                for i in range (num_herds, num_herds*2):\n",
    "                    if action_step.action[i] > 0:\n",
    "                        cullsteps += 1\n",
    "                        break\n",
    "                policy_state = action_step.state\n",
    "                time_step = environment.step(action_step.action)\n",
    "                episode_return += time_step.reward\n",
    "\n",
    "            total_return += episode_return\n",
    "\n",
    "        avg_return = total_return / num_episodes\n",
    "        cullsteps /= num_episodes\n",
    "        return avg_return, cullsteps\n",
    "    else:\n",
    "        return None"
   ]
  },
  {
   "cell_type": "code",
   "execution_count": 6,
   "id": "4d4d70dc-4ada-4e70-b8f6-78de768fb466",
   "metadata": {},
   "outputs": [
    {
     "name": "stdout",
     "output_type": "stream",
     "text": [
      "average return = -31565.545988415186 cullsteps = 24.03\n"
     ]
    }
   ],
   "source": [
    "avg_return, culls = test_rnn_env(py_env, scr_pol_1, num_episodes = 200)\n",
    "print('average return = {0} cullsteps = {1}'.format(avg_return, culls))"
   ]
  },
  {
   "cell_type": "code",
   "execution_count": 7,
   "id": "51e8955e-fc0e-4a71-bfca-5393e62e2ccc",
   "metadata": {},
   "outputs": [
    {
     "name": "stdout",
     "output_type": "stream",
     "text": [
      "average return = -32381.563486573006 cullsteps = 33.78\n"
     ]
    }
   ],
   "source": [
    "avg_return, culls = test_rnn_env(py_env, scr_pol_2, num_episodes = 200)\n",
    "print('average return = {0} cullsteps = {1}'.format(avg_return, culls))"
   ]
  },
  {
   "cell_type": "code",
   "execution_count": 8,
   "id": "7aa803ed-c4f0-4400-8b2b-5f8aeefdc6bd",
   "metadata": {},
   "outputs": [
    {
     "name": "stdout",
     "output_type": "stream",
     "text": [
      "average return = -107995.97262813791 cullsteps = 271.095\n"
     ]
    }
   ],
   "source": [
    "avg_return, culls = test_rnn_env(py_env, random_policy , num_episodes = 2000)\n",
    "print('average return = {0} cullsteps = {1}'.format(avg_return, culls))"
   ]
  }
 ],
 "metadata": {
  "kernelspec": {
   "display_name": "Python 3",
   "language": "python",
   "name": "python3"
  },
  "language_info": {
   "codemirror_mode": {
    "name": "ipython",
    "version": 3
   },
   "file_extension": ".py",
   "mimetype": "text/x-python",
   "name": "python",
   "nbconvert_exporter": "python",
   "pygments_lexer": "ipython3",
   "version": "3.9.2"
  }
 },
 "nbformat": 4,
 "nbformat_minor": 5
}
